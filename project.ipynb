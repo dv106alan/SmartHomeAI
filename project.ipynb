{
 "cells": [
  {
   "cell_type": "code",
   "execution_count": 18,
   "id": "e68524fb-3ac4-43cf-8d2e-7db27f5026be",
   "metadata": {},
   "outputs": [
    {
     "name": "stdout",
     "output_type": "stream",
     "text": [
      "[Document(page_content='prompts: 如果室內光線不足的話\\nactions: 開燈', metadata={'source': '如果室內光線不足的話', 'row': 0}), Document(page_content='prompts: 收到開燈命令\\nactions: 開燈', metadata={'source': '收到開燈命令', 'row': 1}), Document(page_content='prompts: 如果室內沒人的話\\nactions: 關燈', metadata={'source': '如果室內沒人的話', 'row': 2}), Document(page_content='prompts: 收到關燈命令\\nactions: 關燈', metadata={'source': '收到關燈命令', 'row': 3}), Document(page_content='prompts: 室內光線充足\\nactions: 關燈', metadata={'source': '室內光線充足', 'row': 4})]\n"
     ]
    }
   ],
   "source": [
    "# from langchain_google_genai import GoogleGenerativeAI\n",
    "from langchain.document_loaders.csv_loader import CSVLoader\n",
    "# from langchain_community.embeddings import HuggingFaceInstructEmbeddings\n",
    "# from langchain_community.vectorstores import FAISS\n",
    "# from langchain.prompts import PromptTemplate\n",
    "# from langchain.chains import RetrievalQA\n",
    "\n",
    "loader = CSVLoader(file_path='/home/alan/python/sideproject/action_table.csv', source_column='prompts')\n",
    "action_docs = loader.load()\n",
    "print(action_docs)"
   ]
  },
  {
   "cell_type": "code",
   "execution_count": 3,
   "id": "1a6a19d3-09cf-486b-b832-4caa7cfcf0b9",
   "metadata": {},
   "outputs": [
    {
     "name": "stdout",
     "output_type": "stream",
     "text": [
      " * Serving Flask app '__main__'\n",
      " * Debug mode: off\n"
     ]
    },
    {
     "name": "stderr",
     "output_type": "stream",
     "text": [
      "\u001b[31m\u001b[1mWARNING: This is a development server. Do not use it in a production deployment. Use a production WSGI server instead.\u001b[0m\n",
      " * Running on http://127.0.0.1:5000\n",
      "\u001b[33mPress CTRL+C to quit\u001b[0m\n"
     ]
    }
   ],
   "source": [
    "from flask import Flask\n",
    "\n",
    "app = Flask(__name__)\n",
    "\n",
    "@app.route(\"/<name>\")\n",
    "def home(name):\n",
    "    return f\"<h1>hello {name}</h1>\"\n",
    "\n",
    "app.run()\n"
   ]
  },
  {
   "cell_type": "code",
   "execution_count": 12,
   "id": "d1f2caa0-3f2e-4ac2-92f3-d9046c95c34d",
   "metadata": {},
   "outputs": [
    {
     "name": "stdout",
     "output_type": "stream",
     "text": [
      " * Serving Flask app '__main__'\n",
      " * Debug mode: off\n"
     ]
    },
    {
     "name": "stderr",
     "output_type": "stream",
     "text": [
      "\u001b[31m\u001b[1mWARNING: This is a development server. Do not use it in a production deployment. Use a production WSGI server instead.\u001b[0m\n",
      " * Running on http://127.0.0.1:5000\n",
      "\u001b[33mPress CTRL+C to quit\u001b[0m\n"
     ]
    }
   ],
   "source": [
    "from flask import Flask\n",
    "from flask_ngrok import run_with_ngrok\n",
    "import os\n",
    "\n",
    "app = Flask(__name__)\n",
    "run_with_ngrok(app)\n",
    "\n",
    "@app.route(\"/<name>\")\n",
    "def home(name):\n",
    "    return f\"<h1>hello {name}</h1>\"\n",
    "\n",
    "app.run()"
   ]
  },
  {
   "cell_type": "code",
   "execution_count": null,
   "id": "2961643d-2a64-445a-84ef-ad22e06fcf5e",
   "metadata": {},
   "outputs": [],
   "source": []
  }
 ],
 "metadata": {
  "kernelspec": {
   "display_name": "Python 3 (ipykernel)",
   "language": "python",
   "name": "python3"
  },
  "language_info": {
   "codemirror_mode": {
    "name": "ipython",
    "version": 3
   },
   "file_extension": ".py",
   "mimetype": "text/x-python",
   "name": "python",
   "nbconvert_exporter": "python",
   "pygments_lexer": "ipython3",
   "version": "3.10.12"
  }
 },
 "nbformat": 4,
 "nbformat_minor": 5
}
